{
  "nbformat": 4,
  "nbformat_minor": 0,
  "metadata": {
    "language_info": {
      "codemirror_mode": {
        "name": "ipython",
        "version": 3
      },
      "file_extension": ".py",
      "mimetype": "text/x-python",
      "name": "python",
      "nbconvert_exporter": "python",
      "pygments_lexer": "ipython3",
      "version": "3.8.6-final"
    },
    "orig_nbformat": 2,
    "kernelspec": {
      "name": "Python 3.8.6 32-bit",
      "display_name": "Python 3.8.6 32-bit",
      "metadata": {
        "interpreter": {
          "hash": "f8aa1f0236b04890d0786aefc0c24f4ed5bd213f69e2fc4d34cf85753a403e27"
        }
      }
    },
    "colab": {
      "name": "P07_code.ipynb",
      "provenance": [],
      "collapsed_sections": [],
      "include_colab_link": true
    }
  },
  "cells": [
    {
      "cell_type": "markdown",
      "metadata": {
        "id": "view-in-github",
        "colab_type": "text"
      },
      "source": [
        "<a href=\"https://colab.research.google.com/github/Sylvariane/prediction_revenus/blob/main/P07_code.ipynb\" target=\"_parent\"><img src=\"https://colab.research.google.com/assets/colab-badge.svg\" alt=\"Open In Colab\"/></a>"
      ]
    },
    {
      "cell_type": "markdown",
      "metadata": {
        "id": "Snandpj9VD2s"
      },
      "source": [
        "# Prédiction de revenus"
      ]
    },
    {
      "cell_type": "code",
      "metadata": {
        "id": "AbvbpWOAVGPI",
        "outputId": "f3e90679-0da7-4879-cba4-adfccff37edb",
        "colab": {
          "base_uri": "https://localhost:8080/",
          "height": 35
        }
      },
      "source": [
        "# connexion à Google Drive pour importer les dossiers\n",
        "from google.colab import drive\n",
        "drive.mount('/content/drive')"
      ],
      "execution_count": 1,
      "outputs": [
        {
          "output_type": "stream",
          "text": [
            "Drive already mounted at /content/drive; to attempt to forcibly remount, call drive.mount(\"/content/drive\", force_remount=True).\n"
          ],
          "name": "stdout"
        }
      ]
    },
    {
      "cell_type": "code",
      "metadata": {
        "id": "Vr9Plwv6VD2v"
      },
      "source": [
        "import pandas as pd\n",
        "import numpy as np"
      ],
      "execution_count": 2,
      "outputs": []
    },
    {
      "cell_type": "code",
      "metadata": {
        "id": "sF8pZPdXVD26"
      },
      "source": [
        "data = pd.read_csv('/content/drive/My Drive/Data Analyst - OC/Projets/P7_guillot_cecile/data-projet7.csv')"
      ],
      "execution_count": 3,
      "outputs": []
    },
    {
      "cell_type": "code",
      "metadata": {
        "id": "1WpZMzbFVD3F",
        "outputId": "41a8c678-fa1a-4f4c-82f4-6a053a3d0bca",
        "colab": {
          "base_uri": "https://localhost:8080/",
          "height": 206
        }
      },
      "source": [
        "data.head()"
      ],
      "execution_count": 4,
      "outputs": [
        {
          "output_type": "execute_result",
          "data": {
            "text/html": [
              "<div>\n",
              "<style scoped>\n",
              "    .dataframe tbody tr th:only-of-type {\n",
              "        vertical-align: middle;\n",
              "    }\n",
              "\n",
              "    .dataframe tbody tr th {\n",
              "        vertical-align: top;\n",
              "    }\n",
              "\n",
              "    .dataframe thead th {\n",
              "        text-align: right;\n",
              "    }\n",
              "</style>\n",
              "<table border=\"1\" class=\"dataframe\">\n",
              "  <thead>\n",
              "    <tr style=\"text-align: right;\">\n",
              "      <th></th>\n",
              "      <th>country</th>\n",
              "      <th>year_survey</th>\n",
              "      <th>quantile</th>\n",
              "      <th>nb_quantiles</th>\n",
              "      <th>income</th>\n",
              "      <th>gdpppp</th>\n",
              "    </tr>\n",
              "  </thead>\n",
              "  <tbody>\n",
              "    <tr>\n",
              "      <th>0</th>\n",
              "      <td>ALB</td>\n",
              "      <td>2008</td>\n",
              "      <td>1</td>\n",
              "      <td>100</td>\n",
              "      <td>728,89795</td>\n",
              "      <td>7297</td>\n",
              "    </tr>\n",
              "    <tr>\n",
              "      <th>1</th>\n",
              "      <td>ALB</td>\n",
              "      <td>2008</td>\n",
              "      <td>2</td>\n",
              "      <td>100</td>\n",
              "      <td>916,66235</td>\n",
              "      <td>7297</td>\n",
              "    </tr>\n",
              "    <tr>\n",
              "      <th>2</th>\n",
              "      <td>ALB</td>\n",
              "      <td>2008</td>\n",
              "      <td>3</td>\n",
              "      <td>100</td>\n",
              "      <td>1010,916</td>\n",
              "      <td>7297</td>\n",
              "    </tr>\n",
              "    <tr>\n",
              "      <th>3</th>\n",
              "      <td>ALB</td>\n",
              "      <td>2008</td>\n",
              "      <td>4</td>\n",
              "      <td>100</td>\n",
              "      <td>1086,9078</td>\n",
              "      <td>7297</td>\n",
              "    </tr>\n",
              "    <tr>\n",
              "      <th>4</th>\n",
              "      <td>ALB</td>\n",
              "      <td>2008</td>\n",
              "      <td>5</td>\n",
              "      <td>100</td>\n",
              "      <td>1132,6997</td>\n",
              "      <td>7297</td>\n",
              "    </tr>\n",
              "  </tbody>\n",
              "</table>\n",
              "</div>"
            ],
            "text/plain": [
              "  country  year_survey  quantile  nb_quantiles     income gdpppp\n",
              "0     ALB         2008         1           100  728,89795   7297\n",
              "1     ALB         2008         2           100  916,66235   7297\n",
              "2     ALB         2008         3           100   1010,916   7297\n",
              "3     ALB         2008         4           100  1086,9078   7297\n",
              "4     ALB         2008         5           100  1132,6997   7297"
            ]
          },
          "metadata": {
            "tags": []
          },
          "execution_count": 4
        }
      ]
    },
    {
      "cell_type": "markdown",
      "metadata": {
        "id": "UfhUCqOBVD3P"
      },
      "source": [
        "**Mission 1**\n",
        "\n",
        "\n",
        "Résumez les données utilisées :\n",
        "- Année(s) des données utilisées ;\n",
        "- Nombre de pays présents ;\n",
        "- Population couverte par l'analyse (en termes de pourcentage de la population mondiale).\n",
        "\n",
        "\n",
        "Les données de la World Income Distribution présentent pour chaque pays les quantiles de la distribution des revenus de leur population respective.\n",
        "- De quel type de quantiles s'agit-il (quartiles, déciles, etc.) ?\n",
        "- Échantillonner une population en utilisant des quantiles est-il selon vous une bonne méthode ? Pourquoi ?\n",
        "\n",
        "Nous appellerons ici chaque quantile une classe de revenu.\n",
        "Ainsi, la valeur de la colonne income pour un quantile donné peut être vue comme le revenu moyen des personnes appartenant à la classe de revenu correspondante à ce quantile.\n",
        "\n",
        "\n",
        "L'unité utilisée dans la colonne income de la world income distribution est le $PPP. Cette unité est calculée par la Banque mondiale, selon la méthode Eltöte-Köves-Szulc. Après vous être documenté, vous expliquerez à votre mentor très brièvement à quoi correspond cette unité et pourquoi elle est pertinente pour une comparaison de pays différents."
      ]
    },
    {
      "cell_type": "code",
      "metadata": {
        "id": "WB3f6l0pN8Rt",
        "outputId": "4328cc3a-67fd-4db6-e95a-237341acd7c7",
        "colab": {
          "base_uri": "https://localhost:8080/",
          "height": 35
        }
      },
      "source": [
        "data['year_survey'].unique()"
      ],
      "execution_count": 5,
      "outputs": [
        {
          "output_type": "execute_result",
          "data": {
            "text/plain": [
              "array([2008, 2009, 2010, 2007, 2006, 2011, 2004])"
            ]
          },
          "metadata": {
            "tags": []
          },
          "execution_count": 5
        }
      ]
    },
    {
      "cell_type": "markdown",
      "metadata": {
        "id": "SYpH_-HtPctm"
      },
      "source": [
        "Les années présentées dans l'échantillon sont 2006, 2007, 2008, 2009, 2010 et 2011."
      ]
    },
    {
      "cell_type": "code",
      "metadata": {
        "id": "PCb1gF5cOuhb",
        "outputId": "fbb5e0b1-5652-4dc9-fda6-8cf0c341e78c",
        "colab": {
          "base_uri": "https://localhost:8080/",
          "height": 35
        }
      },
      "source": [
        "country = data['country'].unique()\n",
        "print('Nombre de pays présents dans l\\'échantillon : ', len(country))"
      ],
      "execution_count": 6,
      "outputs": [
        {
          "output_type": "stream",
          "text": [
            "Nombre de pays présents dans l'échantillon :  116\n"
          ],
          "name": "stdout"
        }
      ]
    },
    {
      "cell_type": "code",
      "metadata": {
        "id": "Tf5oTpflhzbP"
      },
      "source": [
        "country_iso = pd.read_csv('/content/drive/My Drive/Data Analyst - OC/Projets/P7_guillot_cecile/sql-pays.csv', header=None)"
      ],
      "execution_count": 7,
      "outputs": []
    },
    {
      "cell_type": "code",
      "metadata": {
        "id": "wrlAe18huvsL"
      },
      "source": [
        "country_iso.columns = ['0', '1', '2', 'Code ISO', 'Pays', '5']\n",
        "country_iso = country_iso[['Code ISO', 'Pays']]"
      ],
      "execution_count": 8,
      "outputs": []
    },
    {
      "cell_type": "code",
      "metadata": {
        "id": "FGxZybLEh8fi",
        "outputId": "304eddb1-82b4-428e-a478-82342d92582d",
        "colab": {
          "base_uri": "https://localhost:8080/",
          "height": 206
        }
      },
      "source": [
        "data = pd.merge(data, country_iso, left_on='country', right_on='Code ISO')\n",
        "data = data[['Code ISO', 'Pays', 'year_survey', 'quantile', 'nb_quantiles', 'income', 'gdpppp']]\n",
        "data.head()"
      ],
      "execution_count": 9,
      "outputs": [
        {
          "output_type": "execute_result",
          "data": {
            "text/html": [
              "<div>\n",
              "<style scoped>\n",
              "    .dataframe tbody tr th:only-of-type {\n",
              "        vertical-align: middle;\n",
              "    }\n",
              "\n",
              "    .dataframe tbody tr th {\n",
              "        vertical-align: top;\n",
              "    }\n",
              "\n",
              "    .dataframe thead th {\n",
              "        text-align: right;\n",
              "    }\n",
              "</style>\n",
              "<table border=\"1\" class=\"dataframe\">\n",
              "  <thead>\n",
              "    <tr style=\"text-align: right;\">\n",
              "      <th></th>\n",
              "      <th>Code ISO</th>\n",
              "      <th>Pays</th>\n",
              "      <th>year_survey</th>\n",
              "      <th>quantile</th>\n",
              "      <th>nb_quantiles</th>\n",
              "      <th>income</th>\n",
              "      <th>gdpppp</th>\n",
              "    </tr>\n",
              "  </thead>\n",
              "  <tbody>\n",
              "    <tr>\n",
              "      <th>0</th>\n",
              "      <td>ALB</td>\n",
              "      <td>Albanie</td>\n",
              "      <td>2008</td>\n",
              "      <td>1</td>\n",
              "      <td>100</td>\n",
              "      <td>728,89795</td>\n",
              "      <td>7297</td>\n",
              "    </tr>\n",
              "    <tr>\n",
              "      <th>1</th>\n",
              "      <td>ALB</td>\n",
              "      <td>Albanie</td>\n",
              "      <td>2008</td>\n",
              "      <td>2</td>\n",
              "      <td>100</td>\n",
              "      <td>916,66235</td>\n",
              "      <td>7297</td>\n",
              "    </tr>\n",
              "    <tr>\n",
              "      <th>2</th>\n",
              "      <td>ALB</td>\n",
              "      <td>Albanie</td>\n",
              "      <td>2008</td>\n",
              "      <td>3</td>\n",
              "      <td>100</td>\n",
              "      <td>1010,916</td>\n",
              "      <td>7297</td>\n",
              "    </tr>\n",
              "    <tr>\n",
              "      <th>3</th>\n",
              "      <td>ALB</td>\n",
              "      <td>Albanie</td>\n",
              "      <td>2008</td>\n",
              "      <td>4</td>\n",
              "      <td>100</td>\n",
              "      <td>1086,9078</td>\n",
              "      <td>7297</td>\n",
              "    </tr>\n",
              "    <tr>\n",
              "      <th>4</th>\n",
              "      <td>ALB</td>\n",
              "      <td>Albanie</td>\n",
              "      <td>2008</td>\n",
              "      <td>5</td>\n",
              "      <td>100</td>\n",
              "      <td>1132,6997</td>\n",
              "      <td>7297</td>\n",
              "    </tr>\n",
              "  </tbody>\n",
              "</table>\n",
              "</div>"
            ],
            "text/plain": [
              "  Code ISO     Pays  year_survey  quantile  nb_quantiles     income gdpppp\n",
              "0      ALB  Albanie         2008         1           100  728,89795   7297\n",
              "1      ALB  Albanie         2008         2           100  916,66235   7297\n",
              "2      ALB  Albanie         2008         3           100   1010,916   7297\n",
              "3      ALB  Albanie         2008         4           100  1086,9078   7297\n",
              "4      ALB  Albanie         2008         5           100  1132,6997   7297"
            ]
          },
          "metadata": {
            "tags": []
          },
          "execution_count": 9
        }
      ]
    },
    {
      "cell_type": "code",
      "metadata": {
        "id": "y9BvRVtYITI7"
      },
      "source": [
        "pop_fao = pd.read_csv('/content/drive/My Drive/Data Analyst - OC/Projets/P7_guillot_cecile/population_2008.csv')"
      ],
      "execution_count": 10,
      "outputs": []
    },
    {
      "cell_type": "code",
      "metadata": {
        "id": "cl5dgRuuJmlx"
      },
      "source": [
        "pop_fao  = pop_fao[['Zone', 'Valeur']]\n",
        "pop_fao['Valeur'] = pop_fao['Valeur'] * 1000\n",
        "data = pd.merge(data, pop_fao, right_on='Zone', left_on='Pays')"
      ],
      "execution_count": 11,
      "outputs": []
    },
    {
      "cell_type": "code",
      "metadata": {
        "id": "3stfUhA7KF7q",
        "outputId": "bc61fad7-b19c-43aa-d4f2-7ab59edf52e3",
        "colab": {
          "base_uri": "https://localhost:8080/",
          "height": 35
        }
      },
      "source": [
        "pop_total = sum(pop_fao['Valeur'])\n",
        "pop_data = data['Valeur'].groupby(data['Pays']).mean()\n",
        "pourcent_pop_ech = round((pop_data.sum()/pop_total) * 100, 2)\n",
        "print('Population couverte par l\\'analyse : ' + str(pourcent_pop_ech) + '%.')"
      ],
      "execution_count": 12,
      "outputs": [
        {
          "output_type": "stream",
          "text": [
            "Population couverte par l'analyse : 84.14%.\n"
          ],
          "name": "stdout"
        }
      ]
    },
    {
      "cell_type": "code",
      "metadata": {
        "id": "0UkvbIsVJ6bR"
      },
      "source": [
        "del pop_fao\n",
        "del country_iso"
      ],
      "execution_count": 13,
      "outputs": []
    },
    {
      "cell_type": "markdown",
      "metadata": {
        "id": "L8J00dXCX1gJ"
      },
      "source": [
        "Pour chaque pays, les revenus sont présentés sous la forme de centiles. On dispose de 100 classes de revenus par pays. L'avantage de ce découpage permet de gommer les écarts entre les pays. De plus, on va avoir tendance à voir moins de valeurs qui vont être influencés par des valeurs aberrantes comme cela serait le cas pour une moyenne par exemple."
      ]
    },
    {
      "cell_type": "markdown",
      "metadata": {
        "id": "F4rEuiplYUGd"
      },
      "source": [
        "**Définition de méthode Eltöte-Köves-Szulc** : il s'agit d'une méthode statistique qui permet de calculer la parité de pouvoir d'achat. Elle a l'avantage de donner un poids à chaque pays et ainsi favoriser la comparaison entre différents pays."
      ]
    },
    {
      "cell_type": "markdown",
      "metadata": {
        "id": "aIldlKhZVD3Q"
      },
      "source": [
        "**Mission 2**\n",
        "\n",
        "- Montrez la diversité des pays en termes de distribution de revenus à l'aide d'un graphique. Celui-ci représentera le revenu moyen (axe des ordonnées, sur une échelle logarithmique) de chacune des classes de revenus (axe des abscisses) pour 5 à 10 pays que vous aurez choisis pour montrer la diversité des cas.\n",
        "- Représentez la courbe de Lorenz de chacun des pays choisis.\n",
        "- Pour chacun de ces pays, représentez l'évolution de l'indice de Gini au fil des ans.\n",
        "- Classez les pays par indice de Gini. Donnez la moyenne, les 5 pays ayant l'indice de Gini le plus élevé et les 5 pays ayant l'indice de Gini le plus faible. En quelle position se trouve la France ?\n"
      ]
    }
  ]
}