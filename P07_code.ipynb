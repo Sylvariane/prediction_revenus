{
  "nbformat": 4,
  "nbformat_minor": 0,
  "metadata": {
    "language_info": {
      "codemirror_mode": {
        "name": "ipython",
        "version": 3
      },
      "file_extension": ".py",
      "mimetype": "text/x-python",
      "name": "python",
      "nbconvert_exporter": "python",
      "pygments_lexer": "ipython3",
      "version": "3.8.6-final"
    },
    "orig_nbformat": 2,
    "kernelspec": {
      "name": "Python 3.8.6 32-bit",
      "display_name": "Python 3.8.6 32-bit",
      "metadata": {
        "interpreter": {
          "hash": "f8aa1f0236b04890d0786aefc0c24f4ed5bd213f69e2fc4d34cf85753a403e27"
        }
      }
    },
    "colab": {
      "name": "P07_code.ipynb",
      "provenance": [],
      "collapsed_sections": [],
      "include_colab_link": true
    }
  },
  "cells": [
    {
      "cell_type": "markdown",
      "metadata": {
        "id": "view-in-github",
        "colab_type": "text"
      },
      "source": [
        "<a href=\"https://colab.research.google.com/github/Sylvariane/prediction_revenus/blob/main/P07_code.ipynb\" target=\"_parent\"><img src=\"https://colab.research.google.com/assets/colab-badge.svg\" alt=\"Open In Colab\"/></a>"
      ]
    },
    {
      "cell_type": "markdown",
      "metadata": {
        "id": "Snandpj9VD2s"
      },
      "source": [
        "# Prédiction de revenus"
      ]
    },
    {
      "cell_type": "code",
      "metadata": {
        "id": "AbvbpWOAVGPI",
        "outputId": "c70a471c-4cf4-45f4-f87f-d6aac0117b76",
        "colab": {
          "base_uri": "https://localhost:8080/",
          "height": 35
        }
      },
      "source": [
        "# connexion à Google Drive pour importer les dossiers\n",
        "from google.colab import drive\n",
        "drive.mount('/content/drive')"
      ],
      "execution_count": 1,
      "outputs": [
        {
          "output_type": "stream",
          "text": [
            "Mounted at /content/drive\n"
          ],
          "name": "stdout"
        }
      ]
    },
    {
      "cell_type": "code",
      "metadata": {
        "id": "Vr9Plwv6VD2v"
      },
      "source": [
        "import pandas as pd\n",
        "import numpy as np"
      ],
      "execution_count": 4,
      "outputs": []
    },
    {
      "cell_type": "code",
      "metadata": {
        "id": "sF8pZPdXVD26"
      },
      "source": [
        "data = pd.read_csv('/content/drive/My Drive/Data Analyst - OC/Projets/P7_guillot_cecile/data-projet7.csv')"
      ],
      "execution_count": 6,
      "outputs": []
    },
    {
      "cell_type": "code",
      "metadata": {
        "id": "1WpZMzbFVD3F",
        "outputId": "720b5ea5-3d31-460e-e296-48d27f5799cf",
        "colab": {
          "base_uri": "https://localhost:8080/",
          "height": 424
        }
      },
      "source": [
        "data.head()"
      ],
      "execution_count": 7,
      "outputs": [
        {
          "output_type": "execute_result",
          "data": {
            "text/html": [
              "<div>\n",
              "<style scoped>\n",
              "    .dataframe tbody tr th:only-of-type {\n",
              "        vertical-align: middle;\n",
              "    }\n",
              "\n",
              "    .dataframe tbody tr th {\n",
              "        vertical-align: top;\n",
              "    }\n",
              "\n",
              "    .dataframe thead th {\n",
              "        text-align: right;\n",
              "    }\n",
              "</style>\n",
              "<table border=\"1\" class=\"dataframe\">\n",
              "  <thead>\n",
              "    <tr style=\"text-align: right;\">\n",
              "      <th></th>\n",
              "      <th>country</th>\n",
              "      <th>year_survey</th>\n",
              "      <th>quantile</th>\n",
              "      <th>nb_quantiles</th>\n",
              "      <th>income</th>\n",
              "      <th>gdpppp</th>\n",
              "    </tr>\n",
              "  </thead>\n",
              "  <tbody>\n",
              "    <tr>\n",
              "      <th>0</th>\n",
              "      <td>ALB</td>\n",
              "      <td>2008</td>\n",
              "      <td>1</td>\n",
              "      <td>100</td>\n",
              "      <td>728,89795</td>\n",
              "      <td>7297</td>\n",
              "    </tr>\n",
              "    <tr>\n",
              "      <th>1</th>\n",
              "      <td>ALB</td>\n",
              "      <td>2008</td>\n",
              "      <td>2</td>\n",
              "      <td>100</td>\n",
              "      <td>916,66235</td>\n",
              "      <td>7297</td>\n",
              "    </tr>\n",
              "    <tr>\n",
              "      <th>2</th>\n",
              "      <td>ALB</td>\n",
              "      <td>2008</td>\n",
              "      <td>3</td>\n",
              "      <td>100</td>\n",
              "      <td>1010,916</td>\n",
              "      <td>7297</td>\n",
              "    </tr>\n",
              "    <tr>\n",
              "      <th>3</th>\n",
              "      <td>ALB</td>\n",
              "      <td>2008</td>\n",
              "      <td>4</td>\n",
              "      <td>100</td>\n",
              "      <td>1086,9078</td>\n",
              "      <td>7297</td>\n",
              "    </tr>\n",
              "    <tr>\n",
              "      <th>4</th>\n",
              "      <td>ALB</td>\n",
              "      <td>2008</td>\n",
              "      <td>5</td>\n",
              "      <td>100</td>\n",
              "      <td>1132,6997</td>\n",
              "      <td>7297</td>\n",
              "    </tr>\n",
              "    <tr>\n",
              "      <th>...</th>\n",
              "      <td>...</td>\n",
              "      <td>...</td>\n",
              "      <td>...</td>\n",
              "      <td>...</td>\n",
              "      <td>...</td>\n",
              "      <td>...</td>\n",
              "    </tr>\n",
              "    <tr>\n",
              "      <th>11594</th>\n",
              "      <td>COD</td>\n",
              "      <td>2008</td>\n",
              "      <td>96</td>\n",
              "      <td>100</td>\n",
              "      <td>810,6233</td>\n",
              "      <td>303,19305</td>\n",
              "    </tr>\n",
              "    <tr>\n",
              "      <th>11595</th>\n",
              "      <td>COD</td>\n",
              "      <td>2008</td>\n",
              "      <td>97</td>\n",
              "      <td>100</td>\n",
              "      <td>911,7834</td>\n",
              "      <td>303,19305</td>\n",
              "    </tr>\n",
              "    <tr>\n",
              "      <th>11596</th>\n",
              "      <td>COD</td>\n",
              "      <td>2008</td>\n",
              "      <td>98</td>\n",
              "      <td>100</td>\n",
              "      <td>1057,8074</td>\n",
              "      <td>303,19305</td>\n",
              "    </tr>\n",
              "    <tr>\n",
              "      <th>11597</th>\n",
              "      <td>COD</td>\n",
              "      <td>2008</td>\n",
              "      <td>99</td>\n",
              "      <td>100</td>\n",
              "      <td>1286,6029</td>\n",
              "      <td>303,19305</td>\n",
              "    </tr>\n",
              "    <tr>\n",
              "      <th>11598</th>\n",
              "      <td>COD</td>\n",
              "      <td>2008</td>\n",
              "      <td>100</td>\n",
              "      <td>100</td>\n",
              "      <td>2243,1226</td>\n",
              "      <td>303,19305</td>\n",
              "    </tr>\n",
              "  </tbody>\n",
              "</table>\n",
              "<p>11599 rows × 6 columns</p>\n",
              "</div>"
            ],
            "text/plain": [
              "      country  year_survey  quantile  nb_quantiles     income     gdpppp\n",
              "0         ALB         2008         1           100  728,89795       7297\n",
              "1         ALB         2008         2           100  916,66235       7297\n",
              "2         ALB         2008         3           100   1010,916       7297\n",
              "3         ALB         2008         4           100  1086,9078       7297\n",
              "4         ALB         2008         5           100  1132,6997       7297\n",
              "...       ...          ...       ...           ...        ...        ...\n",
              "11594     COD         2008        96           100   810,6233  303,19305\n",
              "11595     COD         2008        97           100   911,7834  303,19305\n",
              "11596     COD         2008        98           100  1057,8074  303,19305\n",
              "11597     COD         2008        99           100  1286,6029  303,19305\n",
              "11598     COD         2008       100           100  2243,1226  303,19305\n",
              "\n",
              "[11599 rows x 6 columns]"
            ]
          },
          "metadata": {
            "tags": []
          },
          "execution_count": 7
        }
      ]
    },
    {
      "cell_type": "markdown",
      "metadata": {
        "id": "UfhUCqOBVD3P"
      },
      "source": [
        "**Mission 1**\n",
        "\n",
        "\n",
        "Résumez les données utilisées :\n",
        "- Année(s) des données utilisées ;\n",
        "- Nombre de pays présents ;\n",
        "- Population couverte par l'analyse (en termes de pourcentage de la population mondiale).\n",
        "\n",
        "\n",
        "Les données de la World Income Distribution présentent pour chaque pays les quantiles de la distribution des revenus de leur population respective.\n",
        "- De quel type de quantiles s'agit-il (quartiles, déciles, etc.) ?\n",
        "- Échantillonner une population en utilisant des quantiles est-il selon vous une bonne méthode ? Pourquoi ?\n",
        "\n",
        "Nous appellerons ici chaque quantile une classe de revenu.\n",
        "Ainsi, la valeur de la colonne income pour un quantile donné peut être vue comme le revenu moyen des personnes appartenant à la classe de revenu correspondante à ce quantile.\n",
        "\n",
        "\n",
        "L'unité utilisée dans la colonne income de la world income distribution est le $PPP. Cette unité est calculée par la Banque mondiale, selon la méthode Eltöte-Köves-Szulc. Après vous être documenté, vous expliquerez à votre mentor très brièvement à quoi correspond cette unité et pourquoi elle est pertinente pour une comparaison de pays différents."
      ]
    },
    {
      "cell_type": "code",
      "metadata": {
        "id": "WB3f6l0pN8Rt",
        "outputId": "722b2309-206e-462a-9eba-2057c5a5ee7f",
        "colab": {
          "base_uri": "https://localhost:8080/",
          "height": 35
        }
      },
      "source": [
        "data['year_survey'].unique()"
      ],
      "execution_count": 9,
      "outputs": [
        {
          "output_type": "execute_result",
          "data": {
            "text/plain": [
              "array([2008, 2009, 2010, 2007, 2006, 2011, 2004])"
            ]
          },
          "metadata": {
            "tags": []
          },
          "execution_count": 9
        }
      ]
    },
    {
      "cell_type": "code",
      "metadata": {
        "id": "PCb1gF5cOuhb",
        "outputId": "912fa27e-17a8-4c9c-8f59-14443add7a2c",
        "colab": {
          "base_uri": "https://localhost:8080/",
          "height": 35
        }
      },
      "source": [
        "country = data['country'].unique()\n",
        "len(country)"
      ],
      "execution_count": 15,
      "outputs": [
        {
          "output_type": "execute_result",
          "data": {
            "text/plain": [
              "116"
            ]
          },
          "metadata": {
            "tags": []
          },
          "execution_count": 15
        }
      ]
    },
    {
      "cell_type": "markdown",
      "metadata": {
        "id": "aIldlKhZVD3Q"
      },
      "source": [
        "**Mission 2**\n",
        "\n",
        "- Montrez la diversité des pays en termes de distribution de revenus à l'aide d'un graphique. Celui-ci représentera le revenu moyen (axe des ordonnées, sur une échelle logarithmique) de chacune des classes de revenus (axe des abscisses) pour 5 à 10 pays que vous aurez choisis pour montrer la diversité des cas.\n",
        "- Représentez la courbe de Lorenz de chacun des pays choisis.\n",
        "- Pour chacun de ces pays, représentez l'évolution de l'indice de Gini au fil des ans.\n",
        "- Classez les pays par indice de Gini. Donnez la moyenne, les 5 pays ayant l'indice de Gini le plus élevé et les 5 pays ayant l'indice de Gini le plus faible. En quelle position se trouve la France ?\n"
      ]
    }
  ]
}